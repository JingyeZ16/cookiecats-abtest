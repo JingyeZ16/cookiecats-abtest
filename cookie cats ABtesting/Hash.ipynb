{
  "nbformat": 4,
  "nbformat_minor": 0,
  "metadata": {
    "colab": {
      "provenance": []
    },
    "kernelspec": {
      "name": "python3",
      "display_name": "Python 3"
    },
    "language_info": {
      "name": "python"
    }
  },
  "cells": [
    {
      "cell_type": "code",
      "execution_count": 1,
      "metadata": {
        "colab": {
          "base_uri": "https://localhost:8080/"
        },
        "id": "NWlQe1l7vo2a",
        "outputId": "e20090a9-2364-4993-8003-91cb179e9a1c"
      },
      "outputs": [
        {
          "output_type": "stream",
          "name": "stdout",
          "text": [
            "Collecting mmh3\n",
            "  Downloading mmh3-5.2.0-cp312-cp312-manylinux1_x86_64.manylinux_2_28_x86_64.manylinux_2_5_x86_64.whl.metadata (14 kB)\n",
            "Downloading mmh3-5.2.0-cp312-cp312-manylinux1_x86_64.manylinux_2_28_x86_64.manylinux_2_5_x86_64.whl (103 kB)\n",
            "\u001b[?25l   \u001b[90m━━━━━━━━━━━━━━━━━━━━━━━━━━━━━━━━━━━━━━━━\u001b[0m \u001b[32m0.0/103.3 kB\u001b[0m \u001b[31m?\u001b[0m eta \u001b[36m-:--:--\u001b[0m\r\u001b[2K   \u001b[90m━━━━━━━━━━━━━━━━━━━━━━━━━━━━━━━━━━━━━━━━\u001b[0m \u001b[32m103.3/103.3 kB\u001b[0m \u001b[31m3.6 MB/s\u001b[0m eta \u001b[36m0:00:00\u001b[0m\n",
            "\u001b[?25hInstalling collected packages: mmh3\n",
            "Successfully installed mmh3-5.2.0\n"
          ]
        }
      ],
      "source": [
        "!pip install mmh3"
      ]
    },
    {
      "cell_type": "code",
      "source": [
        "import mmh3  # Use the MurmurHash library\n",
        "\n",
        "# Assume the player ID is used as the bucketing identifier\n",
        "player_id = \"123456\"\n",
        "# Calculate the hash value\n",
        "hash_value = mmh3.hash(player_id)\n",
        "\n",
        "# Assume three experiment groups with sample size ratios of 50%, 25%, 25%\n",
        "total_range = 100\n",
        "group_a_range = int(total_range * 0.5)\n",
        "group_b_range = group_a_range + int(total_range * 0.25)\n",
        "\n",
        "# Determine which experiment group the player should be assigned to\n",
        "if hash_value % total_range < group_a_range:\n",
        "    group = \"Group A\"\n",
        "elif hash_value % total_range < group_b_range:\n",
        "    group = \"Group B\"\n",
        "else:\n",
        "    group = \"Group C\"\n",
        "\n",
        "print(f\"Player {player_id} is assigned to {group}\")"
      ],
      "metadata": {
        "colab": {
          "base_uri": "https://localhost:8080/"
        },
        "id": "bzMEWJEmwpxM",
        "outputId": "67afbacd-40c9-4cc0-83b0-c703a4d13f27"
      },
      "execution_count": 4,
      "outputs": [
        {
          "output_type": "stream",
          "name": "stdout",
          "text": [
            "Player 123456 is assigned to Group A\n"
          ]
        }
      ]
    },
    {
      "cell_type": "code",
      "source": [
        "import random\n",
        "import string\n",
        "import mmh3\n",
        "\n",
        "# Function to generate a random ID\n",
        "def generate_random_id(length=8):\n",
        "    all_characters = string.ascii_letters + string.digits\n",
        "    return ''.join(random.choice(all_characters) for i in range(length))\n",
        "\n",
        "# Generate 100 random IDs\n",
        "random_ids = [generate_random_id() for _ in range(100)]\n",
        "\n",
        "# Assume three experiment groups with sample size ratios of 50%, 25%, 25%\n",
        "total_range = 100\n",
        "group_a_range = int(total_range * 0.5)\n",
        "group_b_range = group_a_range + int(total_range * 0.25)\n",
        "\n",
        "# Assign each ID into an experiment group and output the result\n",
        "for player_id in random_ids:\n",
        "    # Compute the hash value\n",
        "    hash_value = mmh3.hash(player_id)\n",
        "\n",
        "    # Determine which experiment group the player should be assigned to\n",
        "    if hash_value % total_range < group_a_range:\n",
        "        group = \"Group A\"\n",
        "    elif hash_value % total_range < group_b_range:\n",
        "        group = \"Group B\"\n",
        "    else:\n",
        "        group = \"Group C\"\n",
        "\n",
        "    print(f\"Player {player_id} is assigned to {group}\")"
      ],
      "metadata": {
        "colab": {
          "base_uri": "https://localhost:8080/"
        },
        "id": "xW61lZ4kwtzS",
        "outputId": "1161de2e-a2d5-4b63-a166-e9e6cf8e8bdc"
      },
      "execution_count": 5,
      "outputs": [
        {
          "output_type": "stream",
          "name": "stdout",
          "text": [
            "Player hMGzVakX is assigned to Group C\n",
            "Player P6Lzl5fI is assigned to Group A\n",
            "Player pLG6NC6p is assigned to Group A\n",
            "Player vWboDm8a is assigned to Group B\n",
            "Player jlLo04JY is assigned to Group A\n",
            "Player kKrG2hrR is assigned to Group B\n",
            "Player V3hJIzCT is assigned to Group B\n",
            "Player SvN1mcvR is assigned to Group A\n",
            "Player OQgDixgy is assigned to Group A\n",
            "Player EdUzFssR is assigned to Group A\n",
            "Player rXu2OU06 is assigned to Group A\n",
            "Player Unn6umU0 is assigned to Group A\n",
            "Player UpFUUZ9o is assigned to Group B\n",
            "Player r87MYUAj is assigned to Group C\n",
            "Player CuV4OVFm is assigned to Group A\n",
            "Player OgqO9ovt is assigned to Group C\n",
            "Player IV2schy7 is assigned to Group A\n",
            "Player c7yin9Rj is assigned to Group B\n",
            "Player xtLJW20P is assigned to Group A\n",
            "Player PcrwTMYJ is assigned to Group A\n",
            "Player Q7tJ44Bw is assigned to Group B\n",
            "Player RJeGS5D5 is assigned to Group A\n",
            "Player la9rd8VE is assigned to Group A\n",
            "Player zNnlZXxP is assigned to Group C\n",
            "Player mwAAqmuX is assigned to Group A\n",
            "Player KjFeFkj7 is assigned to Group C\n",
            "Player TZl8wxGp is assigned to Group C\n",
            "Player RBR99gJt is assigned to Group C\n",
            "Player pQnS3Rjd is assigned to Group B\n",
            "Player vd28aCBd is assigned to Group C\n",
            "Player Tp3qCawR is assigned to Group C\n",
            "Player v4Bug0f3 is assigned to Group A\n",
            "Player HmR8QUHE is assigned to Group A\n",
            "Player M3vSXuBW is assigned to Group A\n",
            "Player CAEWktja is assigned to Group A\n",
            "Player UhswKms4 is assigned to Group B\n",
            "Player 9uVa6yqs is assigned to Group C\n",
            "Player kFlQSom5 is assigned to Group C\n",
            "Player L77fWSnV is assigned to Group B\n",
            "Player d8hGSLfv is assigned to Group A\n",
            "Player Lj4OdTrK is assigned to Group C\n",
            "Player EpdYo5p0 is assigned to Group A\n",
            "Player nPSJnG4G is assigned to Group B\n",
            "Player hBRDqXTy is assigned to Group B\n",
            "Player ecHRgORI is assigned to Group C\n",
            "Player Sg5LW2KL is assigned to Group C\n",
            "Player ICSu0hJp is assigned to Group A\n",
            "Player 0O3Iv0Rw is assigned to Group A\n",
            "Player VsZruI2R is assigned to Group C\n",
            "Player Ol9rsyJ6 is assigned to Group C\n",
            "Player VDuh4ryW is assigned to Group A\n",
            "Player heh61uTr is assigned to Group C\n",
            "Player ycXriIPz is assigned to Group B\n",
            "Player 47e2HgB1 is assigned to Group C\n",
            "Player TWIAUM6D is assigned to Group A\n",
            "Player B9ETYaOY is assigned to Group B\n",
            "Player W4aH69tH is assigned to Group A\n",
            "Player oMUoZwBn is assigned to Group C\n",
            "Player vHSMVR4v is assigned to Group C\n",
            "Player vKVPzjyf is assigned to Group B\n",
            "Player Iph03hhL is assigned to Group C\n",
            "Player 6zilP1nE is assigned to Group A\n",
            "Player oa7vvLE6 is assigned to Group C\n",
            "Player f9Ybwht1 is assigned to Group C\n",
            "Player o5UiywC9 is assigned to Group A\n",
            "Player 5RRgavzv is assigned to Group B\n",
            "Player NWZCEUlz is assigned to Group A\n",
            "Player RWVruJXm is assigned to Group B\n",
            "Player LON4egzj is assigned to Group B\n",
            "Player iNmY9ydr is assigned to Group A\n",
            "Player EVRNksQv is assigned to Group A\n",
            "Player OrytwQ84 is assigned to Group B\n",
            "Player oS0tQ68e is assigned to Group B\n",
            "Player Ro9gRB57 is assigned to Group A\n",
            "Player K4jm8s1z is assigned to Group B\n",
            "Player kQN1Cr1C is assigned to Group A\n",
            "Player svMV7t9T is assigned to Group B\n",
            "Player VqJh4NRD is assigned to Group A\n",
            "Player MXg5VMQF is assigned to Group A\n",
            "Player j5CZ0ilM is assigned to Group B\n",
            "Player GKFFXykR is assigned to Group C\n",
            "Player SMVrzbS3 is assigned to Group A\n",
            "Player emda1ehh is assigned to Group C\n",
            "Player Y59MjUbY is assigned to Group C\n",
            "Player DWLyJm7h is assigned to Group A\n",
            "Player gAYIIgJn is assigned to Group A\n",
            "Player vvfoqKv4 is assigned to Group C\n",
            "Player 8cAvRk86 is assigned to Group C\n",
            "Player XTWnOcq2 is assigned to Group A\n",
            "Player fCzMmNMB is assigned to Group A\n",
            "Player 9GGKUZB5 is assigned to Group B\n",
            "Player 5gAfwn2v is assigned to Group C\n",
            "Player LPizRHZq is assigned to Group A\n",
            "Player NDwhB0jJ is assigned to Group C\n",
            "Player bvzuwLhV is assigned to Group A\n",
            "Player HvisGoqr is assigned to Group A\n",
            "Player Sb5ET89J is assigned to Group A\n",
            "Player utUKA1A8 is assigned to Group A\n",
            "Player axcfaYqx is assigned to Group A\n",
            "Player dgqd0p2P is assigned to Group C\n"
          ]
        }
      ]
    },
    {
      "cell_type": "code",
      "source": [
        "# Change the Font to Chinese because there is Chinese Font in matplotlib\n",
        "\n",
        "!wget -O TaipeiSansTCBeta-Regular.ttf https://drive.google.com/uc?id=1eGAsTN1HBpJAkeVM57_C7ccp7hbgSz3_&export=download\n",
        "\n",
        "import matplotlib as mpl\n",
        "import matplotlib.pyplot as plt\n",
        "from matplotlib.font_manager import fontManager\n",
        "\n",
        "fontManager.addfont('TaipeiSansTCBeta-Regular.ttf')\n",
        "mpl.rc('font', family='Taipei Sans TC Beta')"
      ],
      "metadata": {
        "colab": {
          "base_uri": "https://localhost:8080/"
        },
        "id": "SN6P8gedxZfr",
        "outputId": "abca1ac7-9da9-4013-806d-d6c1333c411f"
      },
      "execution_count": 6,
      "outputs": [
        {
          "output_type": "stream",
          "name": "stdout",
          "text": [
            "--2025-10-30 01:40:04--  https://drive.google.com/uc?id=1eGAsTN1HBpJAkeVM57_C7ccp7hbgSz3_\n",
            "Resolving drive.google.com (drive.google.com)... 108.177.125.100, 108.177.125.138, 108.177.125.101, ...\n",
            "Connecting to drive.google.com (drive.google.com)|108.177.125.100|:443... connected.\n",
            "HTTP request sent, awaiting response... 303 See Other\n",
            "Location: https://drive.usercontent.google.com/download?id=1eGAsTN1HBpJAkeVM57_C7ccp7hbgSz3_ [following]\n",
            "--2025-10-30 01:40:04--  https://drive.usercontent.google.com/download?id=1eGAsTN1HBpJAkeVM57_C7ccp7hbgSz3_\n",
            "Resolving drive.usercontent.google.com (drive.usercontent.google.com)... 108.177.125.132, 2404:6800:4008:c01::84\n",
            "Connecting to drive.usercontent.google.com (drive.usercontent.google.com)|108.177.125.132|:443... connected.\n",
            "HTTP request sent, awaiting response... 200 OK\n",
            "Length: 20659344 (20M) [application/octet-stream]\n",
            "Saving to: ‘TaipeiSansTCBeta-Regular.ttf’\n",
            "\n",
            "TaipeiSansTCBeta-Re 100%[===================>]  19.70M  --.-KB/s    in 0.1s    \n",
            "\n",
            "2025-10-30 01:40:06 (193 MB/s) - ‘TaipeiSansTCBeta-Regular.ttf’ saved [20659344/20659344]\n",
            "\n"
          ]
        }
      ]
    },
    {
      "cell_type": "code",
      "source": [
        "import random\n",
        "import string\n",
        "import mmh3\n",
        "from scipy.stats import chi2_contingency\n",
        "\n",
        "# Function to generate a random ID\n",
        "def generate_random_id(length=8):\n",
        "    all_characters = string.ascii_letters + string.digits\n",
        "    return ''.join(random.choice(all_characters) for i in range(length))\n",
        "\n",
        "# Generate 10,000 random IDs (larger sample sizes increase statistical accuracy)\n",
        "random_ids = [generate_random_id() for _ in range(10000)]\n",
        "\n",
        "# Assume three experiment groups with target ratios of 50%, 25%, 25%\n",
        "total_range = 100\n",
        "group_a_range = int(total_range * 0.5)\n",
        "group_b_range = group_a_range + int(total_range * 0.25)\n",
        "\n",
        "# Initialize counters\n",
        "group_a_count = 0\n",
        "group_b_count = 0\n",
        "group_c_count = 0\n",
        "\n",
        "# Assign each ID to a group and update counts\n",
        "for player_id in random_ids:\n",
        "    # Compute the hash value\n",
        "    hash_value = mmh3.hash(player_id)\n",
        "\n",
        "    # Decide which group the player belongs to\n",
        "    if hash_value % total_range < group_a_range:\n",
        "        group_a_count += 1\n",
        "    elif hash_value % total_range < group_b_range:\n",
        "        group_b_count += 1\n",
        "    else:\n",
        "        group_c_count += 1\n",
        "\n",
        "# Calculate actual proportions\n",
        "total_count = len(random_ids)\n",
        "actual_ratio_a = group_a_count / total_count\n",
        "actual_ratio_b = group_b_count / total_count\n",
        "actual_ratio_c = group_c_count / total_count\n",
        "\n",
        "# Print actual proportions\n",
        "print(f\"Group A actual ratio: {actual_ratio_a * 100:.2f}%\")\n",
        "print(f\"Group B actual ratio: {actual_ratio_b * 100:.2f}%\")\n",
        "print(f\"Group C actual ratio: {actual_ratio_c * 100:.2f}%\")\n",
        "\n",
        "# Perform Chi-Square test\n",
        "observed = [group_a_count, group_b_count, group_c_count]\n",
        "expected = [total_count * 0.5, total_count * 0.25, total_count * 0.25]\n",
        "chi2, p, _, _ = chi2_contingency([observed, expected])\n",
        "\n",
        "# Print chi-square test results\n",
        "print(f\"Chi-square value: {chi2:.2f}\")\n",
        "print(f\"p-value: {p:.4f}\")\n",
        "if p > 0.05:\n",
        "    print(\"Based on the chi-square test, the distribution is uniform.\")\n",
        "else:\n",
        "    print(\"Based on the chi-square test, the distribution is not uniform.\")\n",
        "\n",
        "# Visualization (using matplotlib)\n",
        "import matplotlib.pyplot as plt\n",
        "\n",
        "labels = ['Group A', 'Group B', 'Group C']\n",
        "sizes = [actual_ratio_a, actual_ratio_b, actual_ratio_c]\n",
        "colors = ['lightcoral', 'lightskyblue', 'lightgreen']\n",
        "\n",
        "plt.pie(sizes, labels=labels, colors=colors, autopct='%1.2f%%', startangle=140)\n",
        "plt.axis('equal')\n",
        "plt.title('Allocation Ratio Across Experiment Groups')\n",
        "plt.show()\n"
      ],
      "metadata": {
        "colab": {
          "base_uri": "https://localhost:8080/",
          "height": 535
        },
        "id": "rJiGBJGOxauB",
        "outputId": "d709c504-d50a-4cd8-8a8e-ec20e9ac737e"
      },
      "execution_count": 8,
      "outputs": [
        {
          "output_type": "stream",
          "name": "stdout",
          "text": [
            "Group A actual ratio: 49.45%\n",
            "Group B actual ratio: 25.27%\n",
            "Group C actual ratio: 25.28%\n",
            "Chi-square value: 0.61\n",
            "p-value: 0.7389\n",
            "Based on the chi-square test, the distribution is uniform.\n"
          ]
        },
        {
          "output_type": "display_data",
          "data": {
            "text/plain": [
              "<Figure size 640x480 with 1 Axes>"
            ],
            "image/png": "[encoded data removed]"
          },
          "metadata": {}
        }
      ]
    }
  ]
}